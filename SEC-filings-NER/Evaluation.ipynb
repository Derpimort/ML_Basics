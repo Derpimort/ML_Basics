{
 "cells": [
  {
   "cell_type": "code",
   "execution_count": 1,
   "metadata": {},
   "outputs": [],
   "source": [
    "import os\n",
    "import numpy as np\n",
    "\n",
    "DATA_DIR=\"Data/\"\n",
    "\n",
    "train_X=np.load(os.path.join(DATA_DIR,\"PP_train_X.npy\"))\n",
    "train_y=np.load(os.path.join(DATA_DIR,\"PP_train_y.npy\"))\n",
    "test_X=np.load(os.path.join(DATA_DIR,\"PP_test_X.npy\"))\n",
    "test_y=np.load(os.path.join(DATA_DIR,\"PP_test_y.npy\"))"
   ]
  },
  {
   "cell_type": "code",
   "execution_count": null,
   "metadata": {},
   "outputs": [],
   "source": [
    "from keras_contrib.layers import CRF\n",
    "from keras_contrib.losses import crf_loss\n",
    "from keras_contrib.metrics import crf_accuracy\n",
    "from keras.models import load_model\n",
    "MAX_LEN=69\n",
    "n_words=4169\n",
    "n_tags=5\n",
    "\n",
    "crf=CRF(n_tags)\n",
    "\n",
    "model=load_model(\"./Models/LSTM-CRF/rmsprop_20200315-172901/rmsprop-24-0.9975.hdf5\",custom_objects={'CRF': crf, \n",
    "\t\t\t\t\t\t\t\t\t\t\t\t\t\t\t\t\t\t\t'crf_loss': crf_loss,\n",
    "\t\t\t\t\t\t\t\t\t\t\t\t\t\t\t\t\t\t\t'crf_accuracy': crf_accuracy})"
   ]
  },
  {
   "cell_type": "code",
   "execution_count": 2,
   "metadata": {},
   "outputs": [],
   "source": [
    "from sklearn.metrics import classification_report\n",
    "\n",
    "def evaluate(model,test_X,test_y, out_dict=False):\n",
    "\ttags=['O', 'I-ORG', 'I-LOC', 'I-PER', 'I-MISC']\n",
    "\tpreds=model.predict(test_X,batch_size=32)\n",
    "\treturn classification_report(np.argmax(test_y,axis=2).flatten(),\n",
    "\t\t\t\t\t\t\tnp.argmax(preds,axis=2).flatten(),\n",
    "\t\t\t\t\t\t\ttarget_names=tags,\n",
    "\t\t\t\t\t\t\tdigits=5,\n",
    "\t\t\t\t\t\t\toutput_dict=out_dict)"
   ]
  },
  {
   "cell_type": "code",
   "execution_count": 6,
   "metadata": {},
   "outputs": [
    {
     "name": "stderr",
     "output_type": "stream",
     "text": [
      "/home/darp_lord/Installs/anaconda3/envs/NLP/lib/python3.7/site-packages/sklearn/metrics/_classification.py:1272: UndefinedMetricWarning: Precision and F-score are ill-defined and being set to 0.0 in labels with no predicted samples. Use `zero_division` parameter to control this behavior.\n",
      "  _warn_prf(average, modifier, msg_start, len(result))\n"
     ]
    },
    {
     "name": "stdout",
     "output_type": "stream",
     "text": [
      "              precision    recall  f1-score   support\n",
      "\n",
      "           O       1.00      1.00      1.00     79947\n",
      "       I-ORG       0.93      0.95      0.94       358\n",
      "       I-LOC       0.89      0.93      0.91       324\n",
      "       I-PER       0.98      0.99      0.99       644\n",
      "      I-MISC       0.00      0.00      0.00         9\n",
      "\n",
      "    accuracy                           1.00     81282\n",
      "   macro avg       0.76      0.77      0.77     81282\n",
      "weighted avg       1.00      1.00      1.00     81282\n",
      "\n",
      "              precision    recall  f1-score   support\n",
      "\n",
      "           O       1.00      1.00      1.00     20019\n",
      "       I-ORG       0.75      0.74      0.75        78\n",
      "       I-LOC       0.71      0.65      0.68        60\n",
      "       I-PER       0.98      0.95      0.97       196\n",
      "      I-MISC       0.00      0.00      0.00         2\n",
      "\n",
      "    accuracy                           1.00     20355\n",
      "   macro avg       0.69      0.67      0.68     20355\n",
      "weighted avg       1.00      1.00      1.00     20355\n",
      "\n"
     ]
    }
   ],
   "source": [
    "evaluate(model,train_X,train_y)\n",
    "evaluate(model,test_X,test_y)"
   ]
  },
  {
   "cell_type": "code",
   "execution_count": 10,
   "metadata": {},
   "outputs": [],
   "source": [
    "from sklearn_crfsuite.metrics import flat_classification_report\n",
    "\n",
    "def evaluateCRF(model,test_X,test_y):\n",
    "\ttags=['O', 'I-ORG', 'I-LOC', 'I-PER', 'I-MISC']\n",
    "\tpreds=model.predict(test_X,batch_size=32)\n",
    "\tprint(flat_classification_report(np.argmax(test_y,axis=2),\n",
    "\t\t\t\t\t\t\tnp.argmax(preds,axis=2),\n",
    "\t\t\t\t\t\t\tlabels=np.arange(5)))"
   ]
  },
  {
   "cell_type": "code",
   "execution_count": 11,
   "metadata": {},
   "outputs": [
    {
     "name": "stderr",
     "output_type": "stream",
     "text": [
      "/home/darp_lord/Installs/anaconda3/envs/NLP/lib/python3.7/site-packages/sklearn/metrics/_classification.py:1272: UndefinedMetricWarning: Precision and F-score are ill-defined and being set to 0.0 in labels with no predicted samples. Use `zero_division` parameter to control this behavior.\n",
      "  _warn_prf(average, modifier, msg_start, len(result))\n"
     ]
    },
    {
     "name": "stdout",
     "output_type": "stream",
     "text": [
      "              precision    recall  f1-score   support\n",
      "\n",
      "           0       1.00      1.00      1.00     79947\n",
      "           1       0.93      0.95      0.94       358\n",
      "           2       0.89      0.93      0.91       324\n",
      "           3       0.98      0.99      0.99       644\n",
      "           4       0.00      0.00      0.00         9\n",
      "\n",
      "    accuracy                           1.00     81282\n",
      "   macro avg       0.76      0.77      0.77     81282\n",
      "weighted avg       1.00      1.00      1.00     81282\n",
      "\n",
      "              precision    recall  f1-score   support\n",
      "\n",
      "           0       1.00      1.00      1.00     20019\n",
      "           1       0.75      0.74      0.75        78\n",
      "           2       0.71      0.65      0.68        60\n",
      "           3       0.98      0.95      0.97       196\n",
      "           4       0.00      0.00      0.00         2\n",
      "\n",
      "    accuracy                           1.00     20355\n",
      "   macro avg       0.69      0.67      0.68     20355\n",
      "weighted avg       1.00      1.00      1.00     20355\n",
      "\n"
     ]
    }
   ],
   "source": [
    "evaluateCRF(model,train_X,train_y)\n",
    "evaluateCRF(model,test_X,test_y)\n"
   ]
  },
  {
   "cell_type": "code",
   "execution_count": 3,
   "metadata": {},
   "outputs": [
    {
     "data": {
      "text/plain": [
       "[['Models/LSTM-CRF/', 'Models/LSTM-CRF/'],\n",
       " ['Models/LSTM-CRF/Adadelta50_20200316-012014/46-0.9955.hdf5',\n",
       "  'Models/LSTM-CRF/Adadelta50_20200316-012014/50-0.9958.hdf5'],\n",
       " ['Models/LSTM-CRF/Adadelta69_20200316-012435/49-0.9957.hdf5',\n",
       "  'Models/LSTM-CRF/Adadelta69_20200316-012435/50-0.9959.hdf5'],\n",
       " ['Models/LSTM-CRF/Adagrad50_20200316-012920/28-0.9978.hdf5',\n",
       "  'Models/LSTM-CRF/Adagrad50_20200316-012920/30-0.9978.hdf5'],\n",
       " ['Models/LSTM-CRF/Adagrad69_20200316-013324/26-0.9972.hdf5',\n",
       "  'Models/LSTM-CRF/Adagrad69_20200316-013324/28-0.9972.hdf5'],\n",
       " ['Models/LSTM-CRF/Adam50_20200316-013748/22-0.9973.hdf5',\n",
       "  'Models/LSTM-CRF/Adam50_20200316-013748/27-0.9972.hdf5'],\n",
       " ['Models/LSTM-CRF/Adam69_20200316-014155/12-0.9979.hdf5',\n",
       "  'Models/LSTM-CRF/Adam69_20200316-014155/13-0.9979.hdf5'],\n",
       " ['Models/LSTM-CRF/Adamax50_20200316-014631/44-0.9974.hdf5',\n",
       "  'Models/LSTM-CRF/Adamax50_20200316-014631/49-0.9968.hdf5'],\n",
       " ['Models/LSTM-CRF/Adamax69_20200316-015051/45-0.9972.hdf5',\n",
       "  'Models/LSTM-CRF/Adamax69_20200316-015051/48-0.9972.hdf5'],\n",
       " ['Models/LSTM-CRF/Nadam50_20200316-015540/17-0.9982.hdf5',\n",
       "  'Models/LSTM-CRF/Nadam50_20200316-015540/18-0.9983.hdf5'],\n",
       " ['Models/LSTM-CRF/Nadam69_20200316-020009/10-0.9980.hdf5',\n",
       "  'Models/LSTM-CRF/Nadam69_20200316-020009/19-0.9984.hdf5'],\n",
       " ['Models/LSTM-CRF/rmsprop50_20200316-020501/17-0.9975.hdf5',\n",
       "  'Models/LSTM-CRF/rmsprop50_20200316-020501/21-0.9972.hdf5'],\n",
       " ['Models/LSTM-CRF/rmsprop69_20200316-020929/19-0.9973.hdf5',\n",
       "  'Models/LSTM-CRF/rmsprop69_20200316-020929/25-0.9969.hdf5'],\n",
       " ['Models/LSTM-CRF/SGD50_20200316-021425/49-0.9878.hdf5',\n",
       "  'Models/LSTM-CRF/SGD50_20200316-021425/50-0.9878.hdf5'],\n",
       " ['Models/LSTM-CRF/SGD69_20200316-021909/49-0.9878.hdf5',\n",
       "  'Models/LSTM-CRF/SGD69_20200316-021909/50-0.9878.hdf5'],\n",
       " ['Models/LSTM-CRF/SGDNesterov50_20200316-022420/49-0.9878.hdf5',\n",
       "  'Models/LSTM-CRF/SGDNesterov50_20200316-022420/50-0.9878.hdf5'],\n",
       " ['Models/LSTM-CRF/SGDNesterov69_20200316-022914/49-0.9878.hdf5',\n",
       "  'Models/LSTM-CRF/SGDNesterov69_20200316-022914/50-0.9878.hdf5']]"
      ]
     },
     "execution_count": 3,
     "metadata": {},
     "output_type": "execute_result"
    }
   ],
   "source": [
    "MODELS_DIR=\"Models/LSTM-CRF/\"\n",
    "\n",
    "selected=[]\n",
    "\n",
    "for dirname, _, filenames in os.walk(MODELS_DIR):\n",
    "\tmodel_prev=\"\"\n",
    "\tmodel=\"\"\n",
    "\tfor filename in filenames:\n",
    "\t\tif filename.endswith(\".hdf5\"):\n",
    "\t\t\tmodel_prev=model\n",
    "\t\t\tmodel=filename\n",
    "\tselected.append([os.path.join(dirname,model_prev),os.path.join(dirname,model)])\n",
    "\t\n",
    "\n",
    "selected"
   ]
  },
  {
   "cell_type": "code",
   "execution_count": 6,
   "metadata": {},
   "outputs": [],
   "source": [
    "import keras as K\n",
    "from keras_contrib.layers import CRF\n",
    "from keras_contrib.losses import crf_loss\n",
    "from keras_contrib.metrics import crf_accuracy\n",
    "from keras.models import load_model\n",
    "\n",
    "MAX_LEN=69\n",
    "n_words=4169\n",
    "n_tags=5\n",
    "\n",
    "crf=CRF(n_tags)\n",
    "for back_model, main_model in selected[1:]:\n",
    "\tfname=main_model.split(\"/\")[-2].split(\"_\")[0]\n",
    "\twith open(MODELS_DIR+fname+\".txt\",\"w\") as f:\n",
    "\t\t\n",
    "\t\tmodel=load_model(main_model,custom_objects={'CRF': crf, \n",
    "\t\t\t\t\t\t\t\t\t\t\t\t\t'crf_loss': crf_loss,\n",
    "\t\t\t\t\t\t\t\t\t\t\t\t\t'crf_accuracy': crf_accuracy})\n",
    "\t\tf.write(\"\\t\\t\\t\\t****Main Train****\\n\\n\")\n",
    "\t\tf.write(evaluate(model,train_X,train_y))\n",
    "\t\tf.write(\"\\n\\t\\t\\t\\t****Main Test****\\n\\n\")\n",
    "\t\tf.write(evaluate(model,test_X,test_y))\n",
    "\t\tmodel=load_model(back_model,custom_objects={'CRF': crf, \n",
    "\t\t\t\t\t\t\t\t\t\t\t\t\t'crf_loss': crf_loss,\n",
    "\t\t\t\t\t\t\t\t\t\t\t\t\t'crf_accuracy': crf_accuracy})\n",
    "\t\tf.write(\"\\n\\n\\t\\t\\t\\t****Backup Train****\\n\\n\")\n",
    "\t\tf.write(evaluate(model,train_X,train_y))\n",
    "\t\tf.write(\"\\n\\t\\t\\t\\t****Backup Test****\\n\\n\")\n",
    "\t\tf.write(evaluate(model,test_X,test_y))"
   ]
  },
  {
   "cell_type": "code",
   "execution_count": null,
   "metadata": {},
   "outputs": [],
   "source": [
    "import keras as K\n",
    "from keras_contrib.layers import CRF\n",
    "from keras_contrib.losses import crf_loss\n",
    "from keras_contrib.metrics import crf_accuracy\n",
    "from keras.models import load_model\n",
    "\n",
    "MAX_LEN=69\n",
    "n_words=4169\n",
    "n_tags=5\n",
    "results={}\n",
    "\n",
    "crf=CRF(n_tags)\n",
    "\n",
    "for _, main_model in selected[1:]:\n",
    "\tfname=main_model.split(\"/\")[-2].split(\"_\")[0]\n",
    "\t\n",
    "\tmodel=load_model(main_model,custom_objects={'CRF': crf, \n",
    "\t\t\t\t\t\t\t\t\t\t\t\t\t'crf_loss': crf_loss,\n",
    "\t\t\t\t\t\t\t\t\t\t\t\t\t'crf_accuracy': crf_accuracy})\n",
    "\tresults[fname]=evaluate(model,test_X,test_y,True)"
   ]
  },
  {
   "cell_type": "code",
   "execution_count": 23,
   "metadata": {},
   "outputs": [
    {
     "name": "stdout",
     "output_type": "stream",
     "text": [
      "Opt \t\t precision \t\t recall \t\t f1-score\n",
      "Adadelta50   \t 0.4816749123004193 \t 0.47189191461204477 \t 0.4750562603193794\n",
      "Adadelta69   \t 0.568012303765413 \t 0.4775519708396333 \t 0.5134608340179081\n",
      "Adagrad50   \t 0.622592911524738 \t 0.5548499075015313 \t 0.583855795915972\n",
      "Adagrad69   \t 0.6649421215774597 \t 0.5850858615241737 \t 0.6189039637141206\n",
      "Adam50   \t 0.6734762862456151 \t 0.5789519963883605 \t 0.6177178227163587\n",
      "Adam69   \t 0.6110875492234704 \t 0.5440397642647647 \t 0.5706175313517701\n",
      "Adamax50   \t 0.6213367302367035 \t 0.5451106001888473 \t 0.5751595521052039\n",
      "Adamax69   \t 0.6705252628264227 \t 0.6014613887607402 \t 0.631817080574126\n",
      "Nadam50   \t 0.7295174047252614 \t 0.6107463929674971 \t 0.6575209888930283\n",
      "Nadam69   \t 0.7194505192517535 \t 0.6266490617273088 \t 0.6649759764347305\n",
      "rmsprop50   \t 0.6779439992968832 \t 0.6124870297863811 \t 0.6420878937666519\n",
      "rmsprop69   \t 0.6838468398149962 \t 0.6449455191822085 \t 0.6539082304621984\n",
      "SGD50   \t 0.19669859985261606 \t 0.2 \t 0.19833556249071185\n",
      "SGD69   \t 0.19669859985261606 \t 0.2 \t 0.19833556249071185\n",
      "SGDNesterov50   \t 0.19669859985261606 \t 0.2 \t 0.19833556249071185\n",
      "SGDNesterov69   \t 0.19669859985261606 \t 0.2 \t 0.19833556249071185\n"
     ]
    }
   ],
   "source": [
    "print(\"Opt\",\"\\t\\t\",\"precision\",\"\\t\\t\", \"recall\",\"\\t\\t\", \"f1-score\")\n",
    "for i in results:\n",
    "\tprint(i+\"  \",\"\\t\", results[i]['macro avg']['precision'],\n",
    "\t\t  \"\\t\", results[i]['macro avg']['recall'],\n",
    "\t\t  \"\\t\", results[i]['macro avg']['f1-score'])"
   ]
  },
  {
   "cell_type": "code",
   "execution_count": 24,
   "metadata": {},
   "outputs": [
    {
     "name": "stdout",
     "output_type": "stream",
     "text": [
      "Opt \t\t precision \t\t recall \t\t f1-score\n",
      "Adadelta50   \t 0.9906835532855114 \t 0.9933185949398182 \t 0.9919356427416801\n",
      "Adadelta69   \t 0.9919453360171846 \t 0.9935642348317367 \t 0.9925729738817807\n",
      "Adagrad50   \t 0.9942472805369885 \t 0.99493981822648 \t 0.9944951879717894\n",
      "Adagrad69   \t 0.9948059803081704 \t 0.9955293539670843 \t 0.9950646205800153\n",
      "Adam50   \t 0.9947630814792253 \t 0.9954802259887006 \t 0.9949712948561549\n",
      "Adam69   \t 0.9938573977122257 \t 0.9948415622697127 \t 0.9942398702989652\n",
      "Adamax50   \t 0.9940882689566948 \t 0.99493981822648 \t 0.9943600918224345\n",
      "Adamax69   \t 0.9950093396211919 \t 0.9955293539670843 \t 0.9951911982880748\n",
      "Nadam50   \t 0.9956722763363006 \t 0.9961680176860722 \t 0.9957153463841258\n",
      "Nadam69   \t 0.995954831754035 \t 0.9964136575779907 \t 0.9960555650604954\n",
      "rmsprop50   \t 0.9952445583287847 \t 0.9957258658806191 \t 0.9954255780371128\n",
      "rmsprop69   \t 0.995904522906318 \t 0.9957749938590027 \t 0.9956473636757764\n",
      "SGD50   \t 0.9672584795994893 \t 0.9834929992630803 \t 0.9753081860726015\n",
      "SGD69   \t 0.9672584795994893 \t 0.9834929992630803 \t 0.9753081860726015\n",
      "SGDNesterov50   \t 0.9672584795994893 \t 0.9834929992630803 \t 0.9753081860726015\n",
      "SGDNesterov69   \t 0.9672584795994893 \t 0.9834929992630803 \t 0.9753081860726015\n"
     ]
    }
   ],
   "source": [
    "print(\"Opt\",\"\\t\\t\",\"precision\",\"\\t\\t\", \"recall\",\"\\t\\t\", \"f1-score\")\n",
    "for i in results:\n",
    "\tprint(i+\"  \",\"\\t\", results[i]['weighted avg']['precision'],\n",
    "\t\t  \"\\t\", results[i]['weighted avg']['recall'],\n",
    "\t\t  \"\\t\", results[i]['weighted avg']['f1-score'])"
   ]
  },
  {
   "cell_type": "code",
   "execution_count": 27,
   "metadata": {},
   "outputs": [],
   "source": [
    "import pickle\n",
    "with open(\"results.pkl\",\"wb\") as f:\n",
    "\tpickle.dump(results,f)"
   ]
  },
  {
   "cell_type": "code",
   "execution_count": null,
   "metadata": {},
   "outputs": [],
   "source": []
  }
 ],
 "metadata": {
  "kernelspec": {
   "display_name": "Python 3",
   "language": "python",
   "name": "python3"
  },
  "language_info": {
   "codemirror_mode": {
    "name": "ipython",
    "version": 3
   },
   "file_extension": ".py",
   "mimetype": "text/x-python",
   "name": "python",
   "nbconvert_exporter": "python",
   "pygments_lexer": "ipython3",
   "version": "3.7.6"
  }
 },
 "nbformat": 4,
 "nbformat_minor": 4
}
