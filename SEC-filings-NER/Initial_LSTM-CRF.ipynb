{
 "cells": [
  {
   "cell_type": "code",
   "execution_count": 1,
   "metadata": {},
   "outputs": [],
   "source": [
    "import os\n",
    "import numpy as np\n",
    "\n",
    "DATA_DIR=\"Data/\"\n",
    "\n",
    "train_X=np.load(os.path.join(DATA_DIR,\"PP_train_X.npy\"))\n",
    "train_y=np.load(os.path.join(DATA_DIR,\"PP_train_y.npy\"))\n",
    "test_X=np.load(os.path.join(DATA_DIR,\"PP_test_X.npy\"))\n",
    "test_y=np.load(os.path.join(DATA_DIR,\"PP_test_X.npy\"))"
   ]
  },
  {
   "cell_type": "code",
   "execution_count": 2,
   "metadata": {},
   "outputs": [
    {
     "name": "stderr",
     "output_type": "stream",
     "text": [
      "Using TensorFlow backend.\n",
      "/home/darp_lord/Installs/anaconda3/envs/NLP/lib/python3.7/site-packages/tensorflow/python/framework/dtypes.py:526: FutureWarning: Passing (type, 1) or '1type' as a synonym of type is deprecated; in a future version of numpy, it will be understood as (type, (1,)) / '(1,)type'.\n",
      "  _np_qint8 = np.dtype([(\"qint8\", np.int8, 1)])\n",
      "/home/darp_lord/Installs/anaconda3/envs/NLP/lib/python3.7/site-packages/tensorflow/python/framework/dtypes.py:527: FutureWarning: Passing (type, 1) or '1type' as a synonym of type is deprecated; in a future version of numpy, it will be understood as (type, (1,)) / '(1,)type'.\n",
      "  _np_quint8 = np.dtype([(\"quint8\", np.uint8, 1)])\n",
      "/home/darp_lord/Installs/anaconda3/envs/NLP/lib/python3.7/site-packages/tensorflow/python/framework/dtypes.py:528: FutureWarning: Passing (type, 1) or '1type' as a synonym of type is deprecated; in a future version of numpy, it will be understood as (type, (1,)) / '(1,)type'.\n",
      "  _np_qint16 = np.dtype([(\"qint16\", np.int16, 1)])\n",
      "/home/darp_lord/Installs/anaconda3/envs/NLP/lib/python3.7/site-packages/tensorflow/python/framework/dtypes.py:529: FutureWarning: Passing (type, 1) or '1type' as a synonym of type is deprecated; in a future version of numpy, it will be understood as (type, (1,)) / '(1,)type'.\n",
      "  _np_quint16 = np.dtype([(\"quint16\", np.uint16, 1)])\n",
      "/home/darp_lord/Installs/anaconda3/envs/NLP/lib/python3.7/site-packages/tensorflow/python/framework/dtypes.py:530: FutureWarning: Passing (type, 1) or '1type' as a synonym of type is deprecated; in a future version of numpy, it will be understood as (type, (1,)) / '(1,)type'.\n",
      "  _np_qint32 = np.dtype([(\"qint32\", np.int32, 1)])\n",
      "/home/darp_lord/Installs/anaconda3/envs/NLP/lib/python3.7/site-packages/tensorflow/python/framework/dtypes.py:535: FutureWarning: Passing (type, 1) or '1type' as a synonym of type is deprecated; in a future version of numpy, it will be understood as (type, (1,)) / '(1,)type'.\n",
      "  np_resource = np.dtype([(\"resource\", np.ubyte, 1)])\n"
     ]
    },
    {
     "name": "stdout",
     "output_type": "stream",
     "text": [
      "WARNING:tensorflow:From /home/darp_lord/Installs/anaconda3/envs/NLP/lib/python3.7/site-packages/tensorflow/python/framework/op_def_library.py:263: colocate_with (from tensorflow.python.framework.ops) is deprecated and will be removed in a future version.\n",
      "Instructions for updating:\n",
      "Colocations handled automatically by placer.\n",
      "WARNING:tensorflow:From /home/darp_lord/Installs/anaconda3/envs/NLP/lib/python3.7/site-packages/keras/backend/tensorflow_backend.py:3445: calling dropout (from tensorflow.python.ops.nn_ops) with keep_prob is deprecated and will be removed in a future version.\n",
      "Instructions for updating:\n",
      "Please use `rate` instead of `keep_prob`. Rate should be set to `rate = 1 - keep_prob`.\n"
     ]
    }
   ],
   "source": [
    "from keras.models import Model, Input\n",
    "from keras.layers import LSTM, Embedding, Dense, TimeDistributed, Dropout, Bidirectional\n",
    "from keras_contrib.layers import CRF\n",
    "MAX_LEN=69\n",
    "n_words=4169\n",
    "n_tags=5\n",
    "opt=\"rmsprop\"\n",
    "\n",
    "input = Input(shape=(MAX_LEN,))\n",
    "model = Embedding(input_dim=n_words + 1, output_dim=20,\n",
    "                  input_length=MAX_LEN, mask_zero=True)(input)\n",
    "model = Bidirectional(LSTM(units=50, return_sequences=True,\n",
    "                           recurrent_dropout=0.1))(model) \n",
    "model = TimeDistributed(Dense(50, activation=\"relu\"))(model)\n",
    "crf = CRF(n_tags)\n",
    "out = crf(model)\n",
    "\n",
    "model = Model(input, out)"
   ]
  },
  {
   "cell_type": "code",
   "execution_count": 3,
   "metadata": {},
   "outputs": [
    {
     "name": "stderr",
     "output_type": "stream",
     "text": [
      "/home/darp_lord/Installs/anaconda3/envs/NLP/lib/python3.7/site-packages/keras_contrib/layers/crf.py:346: UserWarning: CRF.loss_function is deprecated and it might be removed in the future. Please use losses.crf_loss instead.\n",
      "  warnings.warn('CRF.loss_function is deprecated '\n",
      "/home/darp_lord/Installs/anaconda3/envs/NLP/lib/python3.7/site-packages/keras_contrib/layers/crf.py:353: UserWarning: CRF.accuracy is deprecated and it might be removed in the future. Please use metrics.crf_accuracy\n",
      "  warnings.warn('CRF.accuracy is deprecated and it '\n"
     ]
    },
    {
     "name": "stdout",
     "output_type": "stream",
     "text": [
      "_________________________________________________________________\n",
      "Layer (type)                 Output Shape              Param #   \n",
      "=================================================================\n",
      "input_1 (InputLayer)         (None, 69)                0         \n",
      "_________________________________________________________________\n",
      "embedding_1 (Embedding)      (None, 69, 20)            83400     \n",
      "_________________________________________________________________\n",
      "bidirectional_1 (Bidirection (None, 69, 100)           28400     \n",
      "_________________________________________________________________\n",
      "time_distributed_1 (TimeDist (None, 69, 50)            5050      \n",
      "_________________________________________________________________\n",
      "crf_1 (CRF)                  (None, 69, 5)             290       \n",
      "=================================================================\n",
      "Total params: 117,140\n",
      "Trainable params: 117,140\n",
      "Non-trainable params: 0\n",
      "_________________________________________________________________\n"
     ]
    }
   ],
   "source": [
    "model.compile(optimizer=opt, loss=crf.loss_function, metrics=[crf.accuracy])\n",
    "model.summary()"
   ]
  },
  {
   "cell_type": "code",
   "execution_count": 4,
   "metadata": {},
   "outputs": [],
   "source": [
    "from keras.callbacks import TensorBoard, ModelCheckpoint, CSVLogger\n",
    "from datetime import datetime\n",
    "\n",
    "MODEL_NAME=\"LSTM-CRF\"\n",
    "MODEL_DIR=\"Models/\"+MODEL_NAME\n",
    "\n",
    "if not os.path.exists(MODEL_DIR):\n",
    "\tos.makedirs(MODEL_DIR)\n",
    "\n",
    "chkpt_path=os.path.join(MODEL_DIR,opt+\"-{epoch:02d}-{val_crf_viterbi_accuracy:.4f}.hdf5\")\n",
    "checkpointer = ModelCheckpoint(chkpt_path, monitor='val_loss', verbose=1, save_best_only=True, mode='min')\n",
    "\n",
    "log_path=os.path.join(MODEL_DIR,opt+\".log\")\n",
    "csv_logger = CSVLogger(log_path)\n",
    "\n",
    "tb_path=os.path.join(MODEL_DIR,opt+\"_\"+datetime.now().strftime(\"%Y%m%d-%H%M%S\"))\n",
    "tensorboard=TensorBoard(log_dir=tb_path)"
   ]
  },
  {
   "cell_type": "code",
   "execution_count": 6,
   "metadata": {},
   "outputs": [
    {
     "name": "stdout",
     "output_type": "stream",
     "text": [
      "WARNING:tensorflow:From /home/darp_lord/Installs/anaconda3/envs/NLP/lib/python3.7/site-packages/tensorflow/python/ops/math_ops.py:3066: to_int32 (from tensorflow.python.ops.math_ops) is deprecated and will be removed in a future version.\n",
      "Instructions for updating:\n",
      "Use tf.cast instead.\n",
      "Train on 1060 samples, validate on 118 samples\n",
      "Epoch 1/10\n",
      "1060/1060 [==============================] - 8s 8ms/step - loss: 0.3285 - crf_viterbi_accuracy: 0.8947 - val_loss: 0.0727 - val_crf_viterbi_accuracy: 0.9878\n",
      "\n",
      "Epoch 00001: val_loss improved from inf to 0.07270, saving model to Models/LSTM-CRF/rmsprop-01-0.9878.hdf5\n",
      "Epoch 2/10\n",
      "1060/1060 [==============================] - 6s 6ms/step - loss: 0.0955 - crf_viterbi_accuracy: 0.9831 - val_loss: 0.0689 - val_crf_viterbi_accuracy: 0.9878\n",
      "\n",
      "Epoch 00002: val_loss improved from 0.07270 to 0.06886, saving model to Models/LSTM-CRF/rmsprop-02-0.9878.hdf5\n",
      "Epoch 3/10\n",
      "1060/1060 [==============================] - 6s 6ms/step - loss: 0.0878 - crf_viterbi_accuracy: 0.9831 - val_loss: 0.0652 - val_crf_viterbi_accuracy: 0.9878\n",
      "\n",
      "Epoch 00003: val_loss improved from 0.06886 to 0.06522, saving model to Models/LSTM-CRF/rmsprop-03-0.9878.hdf5\n",
      "Epoch 4/10\n",
      "1060/1060 [==============================] - 6s 5ms/step - loss: 0.0780 - crf_viterbi_accuracy: 0.9831 - val_loss: 0.0639 - val_crf_viterbi_accuracy: 0.9878\n",
      "\n",
      "Epoch 00004: val_loss improved from 0.06522 to 0.06387, saving model to Models/LSTM-CRF/rmsprop-04-0.9878.hdf5\n",
      "Epoch 5/10\n",
      "1060/1060 [==============================] - 5s 5ms/step - loss: 0.0631 - crf_viterbi_accuracy: 0.9832 - val_loss: 0.0381 - val_crf_viterbi_accuracy: 0.9886\n",
      "\n",
      "Epoch 00005: val_loss improved from 0.06387 to 0.03813, saving model to Models/LSTM-CRF/rmsprop-05-0.9886.hdf5\n",
      "Epoch 6/10\n",
      "1060/1060 [==============================] - 6s 5ms/step - loss: 0.0434 - crf_viterbi_accuracy: 0.9871 - val_loss: 0.0253 - val_crf_viterbi_accuracy: 0.9946\n",
      "\n",
      "Epoch 00006: val_loss improved from 0.03813 to 0.02530, saving model to Models/LSTM-CRF/rmsprop-06-0.9946.hdf5\n",
      "Epoch 7/10\n",
      "1060/1060 [==============================] - 5s 5ms/step - loss: 0.0311 - crf_viterbi_accuracy: 0.9898 - val_loss: 0.0174 - val_crf_viterbi_accuracy: 0.9951\n",
      "\n",
      "Epoch 00007: val_loss improved from 0.02530 to 0.01739, saving model to Models/LSTM-CRF/rmsprop-07-0.9951.hdf5\n",
      "Epoch 8/10\n",
      "1060/1060 [==============================] - 5s 5ms/step - loss: 0.0244 - crf_viterbi_accuracy: 0.9907 - val_loss: 0.0145 - val_crf_viterbi_accuracy: 0.9948\n",
      "\n",
      "Epoch 00008: val_loss improved from 0.01739 to 0.01451, saving model to Models/LSTM-CRF/rmsprop-08-0.9948.hdf5\n",
      "Epoch 9/10\n",
      "1060/1060 [==============================] - 5s 5ms/step - loss: 0.0201 - crf_viterbi_accuracy: 0.9922 - val_loss: 0.0123 - val_crf_viterbi_accuracy: 0.9963\n",
      "\n",
      "Epoch 00009: val_loss improved from 0.01451 to 0.01234, saving model to Models/LSTM-CRF/rmsprop-09-0.9963.hdf5\n",
      "Epoch 10/10\n",
      "1060/1060 [==============================] - 5s 5ms/step - loss: 0.0167 - crf_viterbi_accuracy: 0.9938 - val_loss: 0.0106 - val_crf_viterbi_accuracy: 0.9962\n",
      "\n",
      "Epoch 00010: val_loss improved from 0.01234 to 0.01057, saving model to Models/LSTM-CRF/rmsprop-10-0.9962.hdf5\n"
     ]
    }
   ],
   "source": [
    "history = model.fit(train_X, \n",
    "\t\t\t\t\ttrain_y, \n",
    "\t\t\t\t\tbatch_size=32, \n",
    "\t\t\t\t\tepochs=10,\n",
    "                    validation_split=0.1, \n",
    "\t\t\t\t\tverbose=1,\n",
    "\t\t\t\t\tcallbacks=[checkpointer,csv_logger,tensorboard])"
   ]
  },
  {
   "cell_type": "code",
   "execution_count": 7,
   "metadata": {},
   "outputs": [
    {
     "name": "stdout",
     "output_type": "stream",
     "text": [
      "The tensorboard module is not an IPython extension.\n"
     ]
    }
   ],
   "source": [
    "%load_ext tensorboard"
   ]
  },
  {
   "cell_type": "code",
   "execution_count": null,
   "metadata": {},
   "outputs": [],
   "source": []
  }
 ],
 "metadata": {
  "kernelspec": {
   "display_name": "Python 3",
   "language": "python",
   "name": "python3"
  },
  "language_info": {
   "codemirror_mode": {
    "name": "ipython",
    "version": 3
   },
   "file_extension": ".py",
   "mimetype": "text/x-python",
   "name": "python",
   "nbconvert_exporter": "python",
   "pygments_lexer": "ipython3",
   "version": "3.7.6"
  }
 },
 "nbformat": 4,
 "nbformat_minor": 4
}
