{
 "cells": [
  {
   "cell_type": "code",
   "execution_count": null,
   "metadata": {},
   "outputs": [],
   "source": [
    "import os\n",
    "import numpy as np\n",
    "\n",
    "DATA_DIR=\"Data/\"\n",
    "\n",
    "train_X=np.load(os.path.join(DATA_DIR,\"PP_train_X.npy\"))\n",
    "train_y=np.load(os.path.join(DATA_DIR,\"PP_train_y.npy\"))\n",
    "test_X=np.load(os.path.join(DATA_DIR,\"PP_test_X.npy\"))\n",
    "test_y=np.load(os.path.join(DATA_DIR,\"PP_test_y.npy\"))"
   ]
  },
  {
   "cell_type": "code",
   "execution_count": null,
   "metadata": {},
   "outputs": [],
   "source": [
    "from keras.models import Model, Input\n",
    "from keras.layers import LSTM, Embedding, Dense, TimeDistributed, Dropout, Bidirectional\n",
    "from keras_contrib.layers import CRF\n",
    "from keras_contrib.losses import crf_loss\n",
    "from keras_contrib.metrics import crf_accuracy, crf_viterbi_accuracy\n",
    "from keras.optimizers import SGD\n",
    "from keras.callbacks import TensorBoard, ModelCheckpoint, CSVLogger\n",
    "from datetime import datetime\n",
    "\n",
    "\n",
    "MAX_LEN=69\n",
    "n_words=4169\n",
    "n_tags=5\n",
    "\n",
    "def trainM(model, mod_dir):\n",
    "\tMODEL_DIR=mod_dir\n",
    "\tN_EPOCHS=50\n",
    "\tB_SIZE=32\n",
    "\n",
    "\tif not os.path.exists(MODEL_DIR):\n",
    "\t\tos.makedirs(MODEL_DIR)\n",
    "\n",
    "\tchkpt_path=os.path.join(MODEL_DIR,\"{epoch:02d}-{val_crf_accuracy:.4f}.hdf5\")\n",
    "\tcheckpointer = ModelCheckpoint(chkpt_path, monitor='val_loss', verbose=1, save_best_only=True, mode='min')\n",
    "\n",
    "\tlog_path=os.path.join(MODEL_DIR,\"metrics.log\")\n",
    "\tcsv_logger = CSVLogger(log_path)\n",
    "\n",
    "\ttensorboard=TensorBoard(log_dir=MODEL_DIR)\n",
    "\n",
    "\t\n",
    "\n",
    "\thistory = model.fit(train_X, \n",
    "\t\t\t\t\t\ttrain_y, \n",
    "\t\t\t\t\t\tbatch_size=B_SIZE, \n",
    "\t\t\t\t\t\tepochs=N_EPOCHS,\n",
    "\t\t\t\t\t\tvalidation_split=0.1, \n",
    "\t\t\t\t\t\tverbose=1,\n",
    "\t\t\t\t\t\tcallbacks=[checkpointer,csv_logger,tensorboard])"
   ]
  },
  {
   "cell_type": "code",
   "execution_count": null,
   "metadata": {},
   "outputs": [],
   "source": [
    "from keras.optimizers import Adadelta,Adagrad, Adam, Adamax, Nadam, RMSprop, SGD\n",
    "MODEL_NAME=\"LSTM-CRF\"\n",
    "\n",
    "opt=[]\n",
    "opt.append((\"Adadelta\",Adadelta()))\n",
    "opt.append((\"Adagrad\",Adagrad()))\n",
    "opt.append((\"Adam\",Adam()))\n",
    "opt.append((\"Adamax\",Adamax()))\n",
    "opt.append((\"Nadam\",Nadam()))\n",
    "opt.append((\"rmsprop\",RMSprop()))\n",
    "opt.append((\"SGD\",SGD()))\n",
    "opt.append((\"SGDNesterov\",SGD(nesterov=True)))\n",
    "\n",
    "for c_opt, optimizer in opt:\n",
    "\ttry:\n",
    "\t\tmod_dir=\"Models/\"+MODEL_NAME+\"/\"+c_opt+\"_\"+datetime.now().strftime(\"%Y%m%d-%H%M%S\")\n",
    "\t\tinput = Input(shape=(MAX_LEN,))\n",
    "\t\tmodel = Embedding(input_dim=n_words + 1, output_dim=20,\n",
    "\t\t\t\t\t\t  input_length=MAX_LEN, mask_zero=True)(input)\n",
    "\t\tmodel = Bidirectional(LSTM(units=50, return_sequences=True,\n",
    "\t\t\t\t\t\t\t\t   recurrent_dropout=0.1))(model) \n",
    "\t\tmodel = TimeDistributed(Dense(50, activation=\"relu\"))(model)\n",
    "\t\tcrf = CRF(n_tags)\n",
    "\t\tout = crf(model)\n",
    "\n",
    "\t\tmodel = Model(input, out)\n",
    "\n",
    "\n",
    "\t\tmodel.compile(optimizer=optimizer, loss=crf_loss, metrics=[crf_accuracy])\n",
    "\t\tmodel.summary()\n",
    "\t\ttrainM(model,mod_dir)\n",
    "\texcept Exception as e:\n",
    "\t\tprint(e)"
   ]
  },
  {
   "cell_type": "code",
   "execution_count": null,
   "metadata": {},
   "outputs": [],
   "source": []
  }
 ],
 "metadata": {
  "kernelspec": {
   "display_name": "Python 3",
   "language": "python",
   "name": "python3"
  },
  "language_info": {
   "codemirror_mode": {
    "name": "ipython",
    "version": 3
   },
   "file_extension": ".py",
   "mimetype": "text/x-python",
   "name": "python",
   "nbconvert_exporter": "python",
   "pygments_lexer": "ipython3",
   "version": "3.7.6"
  }
 },
 "nbformat": 4,
 "nbformat_minor": 4
}
