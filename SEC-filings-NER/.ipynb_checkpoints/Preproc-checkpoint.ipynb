{
 "cells": [
  {
   "cell_type": "code",
   "execution_count": 1,
   "metadata": {},
   "outputs": [],
   "source": [
    "import pandas as pd\n",
    "import numpy as np\n",
    "pd.set_option(\"max_columns\",500)\n",
    "pd.set_option(\"max_rows\",500)"
   ]
  },
  {
   "cell_type": "code",
   "execution_count": 50,
   "metadata": {},
   "outputs": [],
   "source": [
    "DATA_DIR=\"../../Data/SEC-filings/data/\"\n",
    "TRAIN_DIR=DATA_DIR+\"train/\"\n",
    "TEST_DIR=DATA_DIR+\"test/\"\n",
    "\n",
    "def convert_to_list(fName):\n",
    "\tsentence=0\n",
    "\tdf_list=[]\n",
    "\twith open(fName,\"r\") as f:\n",
    "\t\tfor line in f:\n",
    "\t\t\tif line==\"\\n\":\n",
    "\t\t\t\tsentence+=1\n",
    "\t\t\telse:\n",
    "\t\t\t\tdf_list+=[[sentence]+line.split(\" \")]\n",
    "\tprint(fName,sentence)\n",
    "\treturn df_list"
   ]
  },
  {
   "cell_type": "code",
   "execution_count": 56,
   "metadata": {},
   "outputs": [
    {
     "name": "stdout",
     "output_type": "stream",
     "text": [
      "../../Data/SEC-filings/data/train/FIN5.txt 1169\n",
      "../../Data/SEC-filings/data/test/FIN3.txt 306\n"
     ]
    }
   ],
   "source": [
    "train_l=convert_to_list(TRAIN_DIR+\"FIN5.txt\")\n",
    "test_l=convert_to_list(TEST_DIR+\"FIN3.txt\")\n",
    "\n",
    "train=pd.DataFrame(train_l[1:],columns=[\"Sentence\", \"Word\",\"POS\",\"-\",\"TAG\"])\n",
    "test=pd.DataFrame(test_l[1:],columns=[\"Sentence\", \"Word\",\"POS\",\"-\",\"TAG\"])"
   ]
  },
  {
   "cell_type": "code",
   "execution_count": 57,
   "metadata": {},
   "outputs": [
    {
     "data": {
      "text/html": [
       "<div>\n",
       "<style scoped>\n",
       "    .dataframe tbody tr th:only-of-type {\n",
       "        vertical-align: middle;\n",
       "    }\n",
       "\n",
       "    .dataframe tbody tr th {\n",
       "        vertical-align: top;\n",
       "    }\n",
       "\n",
       "    .dataframe thead th {\n",
       "        text-align: right;\n",
       "    }\n",
       "</style>\n",
       "<table border=\"1\" class=\"dataframe\">\n",
       "  <thead>\n",
       "    <tr style=\"text-align: right;\">\n",
       "      <th></th>\n",
       "      <th>Sentence</th>\n",
       "      <th>Word</th>\n",
       "      <th>POS</th>\n",
       "      <th>-</th>\n",
       "      <th>TAG</th>\n",
       "    </tr>\n",
       "  </thead>\n",
       "  <tbody>\n",
       "    <tr>\n",
       "      <th>0</th>\n",
       "      <td>1</td>\n",
       "      <td>This</td>\n",
       "      <td>DT</td>\n",
       "      <td>-</td>\n",
       "      <td>O\\n</td>\n",
       "    </tr>\n",
       "    <tr>\n",
       "      <th>1</th>\n",
       "      <td>1</td>\n",
       "      <td>LOAN</td>\n",
       "      <td>NN</td>\n",
       "      <td>-</td>\n",
       "      <td>O\\n</td>\n",
       "    </tr>\n",
       "    <tr>\n",
       "      <th>2</th>\n",
       "      <td>1</td>\n",
       "      <td>AND</td>\n",
       "      <td>CC</td>\n",
       "      <td>-</td>\n",
       "      <td>O\\n</td>\n",
       "    </tr>\n",
       "    <tr>\n",
       "      <th>3</th>\n",
       "      <td>1</td>\n",
       "      <td>SECURITY</td>\n",
       "      <td>NNP</td>\n",
       "      <td>-</td>\n",
       "      <td>O\\n</td>\n",
       "    </tr>\n",
       "    <tr>\n",
       "      <th>4</th>\n",
       "      <td>1</td>\n",
       "      <td>AGREEMENT</td>\n",
       "      <td>NNP</td>\n",
       "      <td>-</td>\n",
       "      <td>O\\n</td>\n",
       "    </tr>\n",
       "    <tr>\n",
       "      <th>...</th>\n",
       "      <td>...</td>\n",
       "      <td>...</td>\n",
       "      <td>...</td>\n",
       "      <td>...</td>\n",
       "      <td>...</td>\n",
       "    </tr>\n",
       "    <tr>\n",
       "      <th>41009</th>\n",
       "      <td>1168</td>\n",
       "      <td>/</td>\n",
       "      <td>NN</td>\n",
       "      <td>-</td>\n",
       "      <td>O\\n</td>\n",
       "    </tr>\n",
       "    <tr>\n",
       "      <th>41010</th>\n",
       "      <td>1168</td>\n",
       "      <td>s</td>\n",
       "      <td>NNS</td>\n",
       "      <td>-</td>\n",
       "      <td>O\\n</td>\n",
       "    </tr>\n",
       "    <tr>\n",
       "      <th>41011</th>\n",
       "      <td>1168</td>\n",
       "      <td>/</td>\n",
       "      <td>:</td>\n",
       "      <td>-</td>\n",
       "      <td>O\\n</td>\n",
       "    </tr>\n",
       "    <tr>\n",
       "      <th>41012</th>\n",
       "      <td>1168</td>\n",
       "      <td>Bing</td>\n",
       "      <td>VBG</td>\n",
       "      <td>-</td>\n",
       "      <td>I-PER\\n</td>\n",
       "    </tr>\n",
       "    <tr>\n",
       "      <th>41013</th>\n",
       "      <td>1168</td>\n",
       "      <td>Yu</td>\n",
       "      <td>NNP</td>\n",
       "      <td>-</td>\n",
       "      <td>I-PER\\n</td>\n",
       "    </tr>\n",
       "  </tbody>\n",
       "</table>\n",
       "<p>41014 rows × 5 columns</p>\n",
       "</div>"
      ],
      "text/plain": [
       "       Sentence       Word  POS  -      TAG\n",
       "0             1       This   DT  -      O\\n\n",
       "1             1       LOAN   NN  -      O\\n\n",
       "2             1        AND   CC  -      O\\n\n",
       "3             1   SECURITY  NNP  -      O\\n\n",
       "4             1  AGREEMENT  NNP  -      O\\n\n",
       "...         ...        ...  ... ..      ...\n",
       "41009      1168          /   NN  -      O\\n\n",
       "41010      1168          s  NNS  -      O\\n\n",
       "41011      1168          /    :  -      O\\n\n",
       "41012      1168       Bing  VBG  -  I-PER\\n\n",
       "41013      1168         Yu  NNP  -  I-PER\\n\n",
       "\n",
       "[41014 rows x 5 columns]"
      ]
     },
     "execution_count": 57,
     "metadata": {},
     "output_type": "execute_result"
    }
   ],
   "source": [
    "train"
   ]
  },
  {
   "cell_type": "code",
   "execution_count": 59,
   "metadata": {},
   "outputs": [
    {
     "name": "stdout",
     "output_type": "stream",
     "text": [
      "Sentence 1168\n",
      "\n",
      "Word 3512\n",
      "\n",
      "POS 42\n",
      "\n",
      "- 2\n",
      "\n",
      "TAG 5\n",
      "\n"
     ]
    }
   ],
   "source": [
    "#for i in train:\n",
    "#\tcol_len=len(train[i].value_counts())\n",
    "#\tif col_len < 50:\n",
    "#\t\tprint(i)\n",
    "#\t\tprint(train[i].value_counts())\n",
    "#\telse:\n",
    "#\t\tprint(i, col_len)\n",
    "#\t\tprint(train[i].value_counts()[:10])\n",
    "#\tprint()\n",
    "\n",
    "for i in train:\n",
    "\tprint(i, len(train[i].value_counts()))\n",
    "\tprint()\n"
   ]
  },
  {
   "cell_type": "code",
   "execution_count": null,
   "metadata": {},
   "outputs": [],
   "source": []
  }
 ],
 "metadata": {
  "kernelspec": {
   "display_name": "Python 3",
   "language": "python",
   "name": "python3"
  },
  "language_info": {
   "codemirror_mode": {
    "name": "ipython",
    "version": 3
   },
   "file_extension": ".py",
   "mimetype": "text/x-python",
   "name": "python",
   "nbconvert_exporter": "python",
   "pygments_lexer": "ipython3",
   "version": "3.7.6"
  }
 },
 "nbformat": 4,
 "nbformat_minor": 4
}
