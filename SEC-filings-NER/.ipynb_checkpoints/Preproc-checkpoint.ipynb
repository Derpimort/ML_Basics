{
 "cells": [
  {
   "cell_type": "code",
   "execution_count": 1,
   "metadata": {},
   "outputs": [],
   "source": [
    "import pandas as pd\n",
    "import numpy as np\n",
    "pd.set_option(\"max_columns\",500)\n",
    "pd.set_option(\"max_rows\",500)"
   ]
  },
  {
   "cell_type": "code",
   "execution_count": 5,
   "metadata": {},
   "outputs": [],
   "source": [
    "DATA_DIR=\"../../Data/SEC-filings/data/\"\n",
    "TRAIN_DIR=DATA_DIR+\"train/\"\n",
    "TEST_DIR=DATA_DIR+\"test/\"\n",
    "\n",
    "def convert_to_list(fName):\n",
    "\tsentence=0\n",
    "\tdf_list=[]\n",
    "\twith open(fName,\"r\") as f:\n",
    "\t\tfor line in f:\n",
    "\t\t\tif line==\"\\n\":\n",
    "\t\t\t\tsentence+=1\n",
    "\t\t\telse:\n",
    "\t\t\t\tdf_list+=[[sentence]+line.strip().split(\" \")]\n",
    "\tprint(fName,sentence)\n",
    "\treturn df_list\n",
    "\n"
   ]
  },
  {
   "cell_type": "code",
   "execution_count": 6,
   "metadata": {},
   "outputs": [
    {
     "name": "stdout",
     "output_type": "stream",
     "text": [
      "../../Data/SEC-filings/data/train/FIN5.txt 1169\n",
      "../../Data/SEC-filings/data/test/FIN3.txt 306\n"
     ]
    }
   ],
   "source": [
    "train_l=convert_to_list(TRAIN_DIR+\"FIN5.txt\")\n",
    "test_l=convert_to_list(TEST_DIR+\"FIN3.txt\")\n",
    "\n",
    "train=pd.DataFrame(train_l[1:],columns=[\"Sentence\", \"Word\",\"POS\",\"-\",\"TAG\"])\n",
    "test=pd.DataFrame(test_l[1:],columns=[\"Sentence\", \"Word\",\"POS\",\"-\",\"TAG\"])"
   ]
  },
  {
   "cell_type": "code",
   "execution_count": 7,
   "metadata": {},
   "outputs": [
    {
     "data": {
      "text/html": [
       "<div>\n",
       "<style scoped>\n",
       "    .dataframe tbody tr th:only-of-type {\n",
       "        vertical-align: middle;\n",
       "    }\n",
       "\n",
       "    .dataframe tbody tr th {\n",
       "        vertical-align: top;\n",
       "    }\n",
       "\n",
       "    .dataframe thead th {\n",
       "        text-align: right;\n",
       "    }\n",
       "</style>\n",
       "<table border=\"1\" class=\"dataframe\">\n",
       "  <thead>\n",
       "    <tr style=\"text-align: right;\">\n",
       "      <th></th>\n",
       "      <th>Sentence</th>\n",
       "      <th>Word</th>\n",
       "      <th>POS</th>\n",
       "      <th>-</th>\n",
       "      <th>TAG</th>\n",
       "    </tr>\n",
       "  </thead>\n",
       "  <tbody>\n",
       "    <tr>\n",
       "      <th>0</th>\n",
       "      <td>1</td>\n",
       "      <td>This</td>\n",
       "      <td>DT</td>\n",
       "      <td>-</td>\n",
       "      <td>O</td>\n",
       "    </tr>\n",
       "    <tr>\n",
       "      <th>1</th>\n",
       "      <td>1</td>\n",
       "      <td>LOAN</td>\n",
       "      <td>NN</td>\n",
       "      <td>-</td>\n",
       "      <td>O</td>\n",
       "    </tr>\n",
       "    <tr>\n",
       "      <th>2</th>\n",
       "      <td>1</td>\n",
       "      <td>AND</td>\n",
       "      <td>CC</td>\n",
       "      <td>-</td>\n",
       "      <td>O</td>\n",
       "    </tr>\n",
       "    <tr>\n",
       "      <th>3</th>\n",
       "      <td>1</td>\n",
       "      <td>SECURITY</td>\n",
       "      <td>NNP</td>\n",
       "      <td>-</td>\n",
       "      <td>O</td>\n",
       "    </tr>\n",
       "    <tr>\n",
       "      <th>4</th>\n",
       "      <td>1</td>\n",
       "      <td>AGREEMENT</td>\n",
       "      <td>NNP</td>\n",
       "      <td>-</td>\n",
       "      <td>O</td>\n",
       "    </tr>\n",
       "    <tr>\n",
       "      <th>...</th>\n",
       "      <td>...</td>\n",
       "      <td>...</td>\n",
       "      <td>...</td>\n",
       "      <td>...</td>\n",
       "      <td>...</td>\n",
       "    </tr>\n",
       "    <tr>\n",
       "      <th>41009</th>\n",
       "      <td>1168</td>\n",
       "      <td>/</td>\n",
       "      <td>NN</td>\n",
       "      <td>-</td>\n",
       "      <td>O</td>\n",
       "    </tr>\n",
       "    <tr>\n",
       "      <th>41010</th>\n",
       "      <td>1168</td>\n",
       "      <td>s</td>\n",
       "      <td>NNS</td>\n",
       "      <td>-</td>\n",
       "      <td>O</td>\n",
       "    </tr>\n",
       "    <tr>\n",
       "      <th>41011</th>\n",
       "      <td>1168</td>\n",
       "      <td>/</td>\n",
       "      <td>:</td>\n",
       "      <td>-</td>\n",
       "      <td>O</td>\n",
       "    </tr>\n",
       "    <tr>\n",
       "      <th>41012</th>\n",
       "      <td>1168</td>\n",
       "      <td>Bing</td>\n",
       "      <td>VBG</td>\n",
       "      <td>-</td>\n",
       "      <td>I-PER</td>\n",
       "    </tr>\n",
       "    <tr>\n",
       "      <th>41013</th>\n",
       "      <td>1168</td>\n",
       "      <td>Yu</td>\n",
       "      <td>NNP</td>\n",
       "      <td>-</td>\n",
       "      <td>I-PER</td>\n",
       "    </tr>\n",
       "  </tbody>\n",
       "</table>\n",
       "<p>41014 rows × 5 columns</p>\n",
       "</div>"
      ],
      "text/plain": [
       "       Sentence       Word  POS  -    TAG\n",
       "0             1       This   DT  -      O\n",
       "1             1       LOAN   NN  -      O\n",
       "2             1        AND   CC  -      O\n",
       "3             1   SECURITY  NNP  -      O\n",
       "4             1  AGREEMENT  NNP  -      O\n",
       "...         ...        ...  ... ..    ...\n",
       "41009      1168          /   NN  -      O\n",
       "41010      1168          s  NNS  -      O\n",
       "41011      1168          /    :  -      O\n",
       "41012      1168       Bing  VBG  -  I-PER\n",
       "41013      1168         Yu  NNP  -  I-PER\n",
       "\n",
       "[41014 rows x 5 columns]"
      ]
     },
     "execution_count": 7,
     "metadata": {},
     "output_type": "execute_result"
    }
   ],
   "source": [
    "train"
   ]
  },
  {
   "cell_type": "code",
   "execution_count": 8,
   "metadata": {},
   "outputs": [
    {
     "name": "stdout",
     "output_type": "stream",
     "text": [
      "Sentence 1168\n",
      "\n",
      "Word 3512\n",
      "\n",
      "POS 42\n",
      "\n",
      "- 2\n",
      "\n",
      "TAG 5\n",
      "\n"
     ]
    }
   ],
   "source": [
    "#for i in train:\n",
    "#\tcol_len=len(train[i].value_counts())\n",
    "#\tif col_len < 50:\n",
    "#\t\tprint(i)\n",
    "#\t\tprint(train[i].value_counts())\n",
    "#\telse:\n",
    "#\t\tprint(i, col_len)\n",
    "#\t\tprint(train[i].value_counts()[:10])\n",
    "#\tprint()\n",
    "\n",
    "for i in train:\n",
    "\tprint(i, len(train[i].value_counts()))\n",
    "\tprint()\n"
   ]
  },
  {
   "cell_type": "code",
   "execution_count": 16,
   "metadata": {},
   "outputs": [
    {
     "data": {
      "text/plain": [
       "[('This', 'DT', 'O'),\n",
       " ('LOAN', 'NN', 'O'),\n",
       " ('AND', 'CC', 'O'),\n",
       " ('SECURITY', 'NNP', 'O'),\n",
       " ('AGREEMENT', 'NNP', 'O'),\n",
       " ('dated', 'VBD', 'O'),\n",
       " ('January', 'NNP', 'O'),\n",
       " ('27', 'CD', 'O'),\n",
       " (',', ',', 'O'),\n",
       " ('1999', 'CD', 'O'),\n",
       " (',', ',', 'O'),\n",
       " ('between', 'IN', 'O'),\n",
       " ('SILICON', 'NNP', 'I-ORG'),\n",
       " ('VALLEY', 'NNP', 'I-ORG'),\n",
       " ('BANK', 'NNP', 'I-ORG'),\n",
       " ('(\"', 'NNP', 'O'),\n",
       " ('Bank', 'NNP', 'I-ORG'),\n",
       " ('\"),', ',', 'O'),\n",
       " ('a', 'DT', 'O'),\n",
       " ('California', 'NNP', 'I-LOC'),\n",
       " ('-', ':', 'O'),\n",
       " ('chartered', 'VBD', 'O'),\n",
       " ('bank', 'NN', 'I-ORG'),\n",
       " ('with', 'IN', 'O'),\n",
       " ('its', 'PRP$', 'O'),\n",
       " ('principal', 'JJ', 'O'),\n",
       " ('place', 'NN', 'O'),\n",
       " ('of', 'IN', 'O'),\n",
       " ('business', 'NN', 'O'),\n",
       " ('at', 'IN', 'O'),\n",
       " ('3003', 'CD', 'I-LOC'),\n",
       " ('Tasman', 'NNP', 'I-LOC'),\n",
       " ('Drive', 'NNP', 'I-LOC'),\n",
       " (',', ',', 'O'),\n",
       " ('Santa', 'NNP', 'I-LOC'),\n",
       " ('Clara', 'NNP', 'I-LOC'),\n",
       " (',', ',', 'O'),\n",
       " ('California', 'NNP', 'I-LOC'),\n",
       " ('95054', 'CD', 'O'),\n",
       " ('with', 'IN', 'O'),\n",
       " ('a', 'DT', 'O'),\n",
       " ('loan', 'NN', 'O'),\n",
       " ('production', 'NN', 'O'),\n",
       " ('office', 'NN', 'O'),\n",
       " ('located', 'VBD', 'O'),\n",
       " ('at', 'IN', 'O'),\n",
       " ('40', 'CD', 'I-LOC'),\n",
       " ('William', 'NNP', 'I-LOC'),\n",
       " ('St', 'NNP', 'I-LOC'),\n",
       " ('.,', ',', 'O'),\n",
       " ('Ste', 'NNP', 'O'),\n",
       " ('.', '.', 'O')]"
      ]
     },
     "execution_count": 16,
     "metadata": {},
     "output_type": "execute_result"
    }
   ],
   "source": [
    "sentences=train.groupby(\"Sentence\").apply(lambda x: list(zip(x[\"Word\"].values,x[\"POS\"].values,x[\"TAG\"].values))).values\n",
    "sentences[0]"
   ]
  },
  {
   "cell_type": "code",
   "execution_count": 17,
   "metadata": {},
   "outputs": [
    {
     "data": {
      "text/plain": [
       "413"
      ]
     },
     "execution_count": 17,
     "metadata": {},
     "output_type": "execute_result"
    }
   ],
   "source": [
    "max(len(i) for i in sentences)"
   ]
  },
  {
   "cell_type": "code",
   "execution_count": 28,
   "metadata": {},
   "outputs": [
    {
     "data": {
      "image/png": "[encoded data removed]",
      "text/plain": [
       "<Figure size 2160x720 with 1 Axes>"
      ]
     },
     "metadata": {
      "needs_background": "light"
     },
     "output_type": "display_data"
    }
   ],
   "source": [
    "import matplotlib.pyplot as plt\n",
    "plt.rc('xtick',labelsize=20)\n",
    "plt.rc('ytick',labelsize=20)\n",
    "plt.figure(figsize=(30,10))\n",
    "plt.hist([len(i) for i in sentences],bins=30)\n",
    "plt.xticks(range(0,450,20))\n",
    "plt.show()"
   ]
  },
  {
   "cell_type": "code",
   "execution_count": 37,
   "metadata": {},
   "outputs": [
    {
     "data": {
      "text/plain": [
       "41"
      ]
     },
     "execution_count": 37,
     "metadata": {},
     "output_type": "execute_result"
    }
   ],
   "source": [
    "max(len(x) for x in train['Word'].unique())"
   ]
  },
  {
   "cell_type": "code",
   "execution_count": 43,
   "metadata": {},
   "outputs": [
    {
     "name": "stdout",
     "output_type": "stream",
     "text": [
      "Train\n",
      "False    41014\n",
      "Name: Sentence, dtype: int64\n",
      "\n",
      "False    41014\n",
      "Name: Word, dtype: int64\n",
      "\n",
      "False    41014\n",
      "Name: POS, dtype: int64\n",
      "\n",
      "False    41014\n",
      "Name: -, dtype: int64\n",
      "\n",
      "False    41014\n",
      "Name: TAG, dtype: int64\n",
      "\n",
      "Test\n",
      "False    13248\n",
      "Name: Sentence, dtype: int64\n",
      "\n",
      "False    13248\n",
      "Name: Word, dtype: int64\n",
      "\n",
      "False    13248\n",
      "Name: POS, dtype: int64\n",
      "\n",
      "False    13248\n",
      "Name: -, dtype: int64\n",
      "\n",
      "False    13248\n",
      "Name: TAG, dtype: int64\n",
      "\n"
     ]
    }
   ],
   "source": [
    "def num_nulls(x,title=\"Title\"):\n",
    "\tprint(title)\n",
    "\tfor i in x:\n",
    "\t\tprint(x[i].isnull().value_counts())\n",
    "\t\tprint()\n",
    "\n",
    "num_nulls(train,\"Train\")\n",
    "num_nulls(test,\"Test\")"
   ]
  },
  {
   "cell_type": "code",
   "execution_count": null,
   "metadata": {},
   "outputs": [],
   "source": []
  }
 ],
 "metadata": {
  "kernelspec": {
   "display_name": "Python 3",
   "language": "python",
   "name": "python3"
  },
  "language_info": {
   "codemirror_mode": {
    "name": "ipython",
    "version": 3
   },
   "file_extension": ".py",
   "mimetype": "text/x-python",
   "name": "python",
   "nbconvert_exporter": "python",
   "pygments_lexer": "ipython3",
   "version": "3.7.6"
  }
 },
 "nbformat": 4,
 "nbformat_minor": 4
}
